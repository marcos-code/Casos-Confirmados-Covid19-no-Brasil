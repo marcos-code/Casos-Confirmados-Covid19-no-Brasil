{
  "nbformat": 4,
  "nbformat_minor": 0,
  "metadata": {
    "colab": {
      "name": "Untitled23.ipynb",
      "provenance": [],
      "authorship_tag": "ABX9TyNW3/4ip2hOw/QSiRfynVs0",
      "include_colab_link": true
    },
    "kernelspec": {
      "name": "python3",
      "display_name": "Python 3"
    }
  },
  "cells": [
    {
      "cell_type": "markdown",
      "metadata": {
        "id": "view-in-github",
        "colab_type": "text"
      },
      "source": [
        "<a href=\"https://colab.research.google.com/github/marcos-code/Casos-Confirmados-Covid19-no-Brasil/blob/master/LABhacker.ipynb\" target=\"_parent\"><img src=\"https://colab.research.google.com/assets/colab-badge.svg\" alt=\"Open In Colab\"/></a>"
      ]
    },
    {
      "cell_type": "code",
      "metadata": {
        "id": "citUVDvqH8Uy"
      },
      "source": [
        "import pandas as pd"
      ],
      "execution_count": 1,
      "outputs": []
    },
    {
      "cell_type": "code",
      "metadata": {
        "id": "wP14I1h0IAas"
      },
      "source": [
        "#O arquivo é separado por virgula, por isso informamos sep, e codificadido por isso enconding \n",
        "\n",
        "df = pd.read_csv(\"https://raw.githubusercontent.com/rodolfoghi/curso-labhacker-analise-dados-com-python/master/PDA_UNIDADES_RF_EPCT_CSV.csv\", sep=\";\", encoding=\"cp1252\")"
      ],
      "execution_count": 3,
      "outputs": []
    },
    {
      "cell_type": "code",
      "metadata": {
        "id": "1cfoUb1JImGp",
        "outputId": "5cc1b580-ae7e-4fdc-a7b9-81eb8fb33446",
        "colab": {
          "base_uri": "https://localhost:8080/",
          "height": 586
        }
      },
      "source": [
        "#Mostrar as 5 primeiras linhas\n",
        "df.head()"
      ],
      "execution_count": 5,
      "outputs": [
        {
          "output_type": "execute_result",
          "data": {
            "text/html": [
              "<div>\n",
              "<style scoped>\n",
              "    .dataframe tbody tr th:only-of-type {\n",
              "        vertical-align: middle;\n",
              "    }\n",
              "\n",
              "    .dataframe tbody tr th {\n",
              "        vertical-align: top;\n",
              "    }\n",
              "\n",
              "    .dataframe thead th {\n",
              "        text-align: right;\n",
              "    }\n",
              "</style>\n",
              "<table border=\"1\" class=\"dataframe\">\n",
              "  <thead>\n",
              "    <tr style=\"text-align: right;\">\n",
              "      <th></th>\n",
              "      <th>CODIGO_UNIDADE</th>\n",
              "      <th>NOME_UNIDADE</th>\n",
              "      <th>DT_AUTORIZA_FUNCIONA_UNID</th>\n",
              "      <th>NOME_REGIAO_UNIDADE</th>\n",
              "      <th>SIGLA_UF_UNIDADE</th>\n",
              "      <th>NOME_MUNICIPIO_UNIDADE</th>\n",
              "      <th>NOME_MESORREGIAO_UNIDADE</th>\n",
              "      <th>NOME_MICRORREGIAO_UNIDADE</th>\n",
              "    </tr>\n",
              "  </thead>\n",
              "  <tbody>\n",
              "    <tr>\n",
              "      <th>0</th>\n",
              "      <td>2879</td>\n",
              "      <td>INSTITUTO FEDERAL DA BAHIA - CAMPUS EUNÁPOLIS</td>\n",
              "      <td>07-01-2009</td>\n",
              "      <td>Nordeste</td>\n",
              "      <td>BA</td>\n",
              "      <td>Eunápolis</td>\n",
              "      <td>Sul Baiano</td>\n",
              "      <td>Porto Seguro</td>\n",
              "    </tr>\n",
              "    <tr>\n",
              "      <th>1</th>\n",
              "      <td>2948</td>\n",
              "      <td>INSTITUTO FEDERAL BAIANO - CAMPUS ITAPETINGA</td>\n",
              "      <td>07-01-2009</td>\n",
              "      <td>Nordeste</td>\n",
              "      <td>BA</td>\n",
              "      <td>Itapetinga</td>\n",
              "      <td>Centro Sul Baiano</td>\n",
              "      <td>Itapetinga</td>\n",
              "    </tr>\n",
              "    <tr>\n",
              "      <th>2</th>\n",
              "      <td>14328</td>\n",
              "      <td>INSTITUTO FEDERAL DO ACRE - CAMPUS SENA MADUREIRA</td>\n",
              "      <td>30-12-2008</td>\n",
              "      <td>Norte</td>\n",
              "      <td>AC</td>\n",
              "      <td>Sena Madureira</td>\n",
              "      <td>Vale do Acre</td>\n",
              "      <td>Sena Madureira</td>\n",
              "    </tr>\n",
              "    <tr>\n",
              "      <th>3</th>\n",
              "      <td>14547</td>\n",
              "      <td>INSTITUTO FEDERAL DE ALAGOAS - CAMPUS ARAPIRACA</td>\n",
              "      <td>06-07-2010</td>\n",
              "      <td>Nordeste</td>\n",
              "      <td>AL</td>\n",
              "      <td>Arapiraca</td>\n",
              "      <td>Agreste Alagoano</td>\n",
              "      <td>Arapiraca</td>\n",
              "    </tr>\n",
              "    <tr>\n",
              "      <th>4</th>\n",
              "      <td>32010</td>\n",
              "      <td>INSTITUTO FEDERAL DE ALAGOAS - CAMPUS CORURIPE</td>\n",
              "      <td>22-01-2014</td>\n",
              "      <td>Nordeste</td>\n",
              "      <td>AL</td>\n",
              "      <td>Coruripe</td>\n",
              "      <td>Leste Alagoano</td>\n",
              "      <td>São Miguel dos Campos</td>\n",
              "    </tr>\n",
              "  </tbody>\n",
              "</table>\n",
              "</div>"
            ],
            "text/plain": [
              "   CODIGO_UNIDADE  ... NOME_MICRORREGIAO_UNIDADE\n",
              "0            2879  ...              Porto Seguro\n",
              "1            2948  ...                Itapetinga\n",
              "2           14328  ...            Sena Madureira\n",
              "3           14547  ...                 Arapiraca\n",
              "4           32010  ...     São Miguel dos Campos\n",
              "\n",
              "[5 rows x 8 columns]"
            ]
          },
          "metadata": {
            "tags": []
          },
          "execution_count": 5
        }
      ]
    },
    {
      "cell_type": "code",
      "metadata": {
        "id": "vQcILwVAJ6EP",
        "outputId": "4f875442-93d0-41a8-e163-6d032f2f8f7d",
        "colab": {
          "base_uri": "https://localhost:8080/",
          "height": 173
        }
      },
      "source": [
        "#quantas aulas tem no arquivo?\n",
        "df.count()"
      ],
      "execution_count": 6,
      "outputs": [
        {
          "output_type": "execute_result",
          "data": {
            "text/plain": [
              "CODIGO_UNIDADE               618\n",
              "NOME_UNIDADE                 618\n",
              "DT_AUTORIZA_FUNCIONA_UNID    618\n",
              "NOME_REGIAO_UNIDADE          618\n",
              "SIGLA_UF_UNIDADE             618\n",
              "NOME_MUNICIPIO_UNIDADE       618\n",
              "NOME_MESORREGIAO_UNIDADE     618\n",
              "NOME_MICRORREGIAO_UNIDADE    618\n",
              "dtype: int64"
            ]
          },
          "metadata": {
            "tags": []
          },
          "execution_count": 6
        }
      ]
    },
    {
      "cell_type": "code",
      "metadata": {
        "id": "-0wHcRfoNLVe",
        "outputId": "36de2045-6db8-49f3-dc17-33da416f88bd",
        "colab": {
          "base_uri": "https://localhost:8080/",
          "height": 294
        }
      },
      "source": [
        "#descreve as colunas numericas\n",
        "df.describe()"
      ],
      "execution_count": 7,
      "outputs": [
        {
          "output_type": "execute_result",
          "data": {
            "text/html": [
              "<div>\n",
              "<style scoped>\n",
              "    .dataframe tbody tr th:only-of-type {\n",
              "        vertical-align: middle;\n",
              "    }\n",
              "\n",
              "    .dataframe tbody tr th {\n",
              "        vertical-align: top;\n",
              "    }\n",
              "\n",
              "    .dataframe thead th {\n",
              "        text-align: right;\n",
              "    }\n",
              "</style>\n",
              "<table border=\"1\" class=\"dataframe\">\n",
              "  <thead>\n",
              "    <tr style=\"text-align: right;\">\n",
              "      <th></th>\n",
              "      <th>CODIGO_UNIDADE</th>\n",
              "    </tr>\n",
              "  </thead>\n",
              "  <tbody>\n",
              "    <tr>\n",
              "      <th>count</th>\n",
              "      <td>618.000000</td>\n",
              "    </tr>\n",
              "    <tr>\n",
              "      <th>mean</th>\n",
              "      <td>16255.610032</td>\n",
              "    </tr>\n",
              "    <tr>\n",
              "      <th>std</th>\n",
              "      <td>12973.588737</td>\n",
              "    </tr>\n",
              "    <tr>\n",
              "      <th>min</th>\n",
              "      <td>354.000000</td>\n",
              "    </tr>\n",
              "    <tr>\n",
              "      <th>25%</th>\n",
              "      <td>2998.500000</td>\n",
              "    </tr>\n",
              "    <tr>\n",
              "      <th>50%</th>\n",
              "      <td>13840.500000</td>\n",
              "    </tr>\n",
              "    <tr>\n",
              "      <th>75%</th>\n",
              "      <td>30818.250000</td>\n",
              "    </tr>\n",
              "    <tr>\n",
              "      <th>max</th>\n",
              "      <td>44307.000000</td>\n",
              "    </tr>\n",
              "  </tbody>\n",
              "</table>\n",
              "</div>"
            ],
            "text/plain": [
              "       CODIGO_UNIDADE\n",
              "count      618.000000\n",
              "mean     16255.610032\n",
              "std      12973.588737\n",
              "min        354.000000\n",
              "25%       2998.500000\n",
              "50%      13840.500000\n",
              "75%      30818.250000\n",
              "max      44307.000000"
            ]
          },
          "metadata": {
            "tags": []
          },
          "execution_count": 7
        }
      ]
    },
    {
      "cell_type": "code",
      "metadata": {
        "id": "Q6guO1qdNRjo",
        "outputId": "51e0e87a-75e1-4416-e607-621f56144b02",
        "colab": {
          "base_uri": "https://localhost:8080/",
          "height": 173
        }
      },
      "source": [
        "#mostras os tipos de cada coluna do dataframe\n",
        "df.dtypes"
      ],
      "execution_count": 9,
      "outputs": [
        {
          "output_type": "execute_result",
          "data": {
            "text/plain": [
              "CODIGO_UNIDADE                int64\n",
              "NOME_UNIDADE                 object\n",
              "DT_AUTORIZA_FUNCIONA_UNID    object\n",
              "NOME_REGIAO_UNIDADE          object\n",
              "SIGLA_UF_UNIDADE             object\n",
              "NOME_MUNICIPIO_UNIDADE       object\n",
              "NOME_MESORREGIAO_UNIDADE     object\n",
              "NOME_MICRORREGIAO_UNIDADE    object\n",
              "dtype: object"
            ]
          },
          "metadata": {
            "tags": []
          },
          "execution_count": 9
        }
      ]
    },
    {
      "cell_type": "code",
      "metadata": {
        "id": "3AATt0HUOKjU",
        "outputId": "25693604-c6b4-4a41-fe79-df2ff48eed39",
        "colab": {
          "base_uri": "https://localhost:8080/",
          "height": 121
        }
      },
      "source": [
        "#Quantas escolas existem em cada região do Brasil\n",
        "\n",
        "df[\"NOME_REGIAO_UNIDADE\"].value_counts()"
      ],
      "execution_count": 11,
      "outputs": [
        {
          "output_type": "execute_result",
          "data": {
            "text/plain": [
              "Nordeste        202\n",
              "Sudeste         163\n",
              "Sul             116\n",
              "Norte            70\n",
              "Centro-Oeste     67\n",
              "Name: NOME_REGIAO_UNIDADE, dtype: int64"
            ]
          },
          "metadata": {
            "tags": []
          },
          "execution_count": 11
        }
      ]
    },
    {
      "cell_type": "code",
      "metadata": {
        "id": "W79iD2pxP_LX",
        "outputId": "554e39c4-d3b1-4428-d892-4de11b5b043f",
        "colab": {
          "base_uri": "https://localhost:8080/",
          "height": 503
        }
      },
      "source": [
        "#Vamos contar agora por unidade da federação (estado)\n",
        "df[\"SIGLA_UF_UNIDADE\"].value_counts()\n"
      ],
      "execution_count": 12,
      "outputs": [
        {
          "output_type": "execute_result",
          "data": {
            "text/plain": [
              "MG    67\n",
              "RS    45\n",
              "RJ    39\n",
              "SC    36\n",
              "SP    35\n",
              "PR    35\n",
              "BA    34\n",
              "CE    27\n",
              "MA    27\n",
              "GO    26\n",
              "PI    23\n",
              "RN    23\n",
              "PE    23\n",
              "ES    22\n",
              "PB    21\n",
              "PA    20\n",
              "MT    19\n",
              "AL    16\n",
              "AM    15\n",
              "MS    11\n",
              "TO    11\n",
              "DF    11\n",
              "RO     8\n",
              "SE     8\n",
              "RR     6\n",
              "AC     6\n",
              "AP     4\n",
              "Name: SIGLA_UF_UNIDADE, dtype: int64"
            ]
          },
          "metadata": {
            "tags": []
          },
          "execution_count": 12
        }
      ]
    },
    {
      "cell_type": "code",
      "metadata": {
        "id": "lMH3c3nwSG8i",
        "outputId": "e87724ed-4f26-4f5f-f686-405cd44e3e1c",
        "colab": {
          "base_uri": "https://localhost:8080/",
          "height": 275
        }
      },
      "source": [
        "#Mostrando os dados em um grafico\n",
        "#precisamos informar que queremos analisar o grafico dentro do proprio notebok\n",
        "#pegar as escolas em UF e mostrar no grafico\n",
        "%matplotlib inline\n",
        "df[\"SIGLA_UF_UNIDADE\"].value_counts().plot.bar();\n"
      ],
      "execution_count": 14,
      "outputs": [
        {
          "output_type": "display_data",
          "data": {
            "image/png": "[encoded data removed]",
            "text/plain": [
              "<Figure size 432x288 with 1 Axes>"
            ]
          },
          "metadata": {
            "tags": [],
            "needs_background": "light"
          }
        }
      ]
    }
  ]
}